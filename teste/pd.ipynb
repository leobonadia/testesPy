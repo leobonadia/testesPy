{
 "cells": [
  {
   "cell_type": "code",
   "execution_count": 43,
   "id": "2abf29ec",
   "metadata": {},
   "outputs": [],
   "source": [
    "from selenium import webdriver\n",
    "from webdriver_manager.chrome import ChromeDriverManager\n",
    "from selenium.webdriver.chrome.service import Service\n",
    "from selenium.webdriver import Chrome, ChromeOptions\n",
    "from selenium.webdriver.common.keys import Keys\n",
    "from selenium.webdriver.common.by import By\n",
    "import requests\n",
    "\n",
    "options = ChromeOptions()\n",
    "chrome_prefs = {\n",
    "    \"download.prompt_for_download\": False,\n",
    "    \"plugins.always_open_pdf_externally\": True,\n",
    "    \"download.open_pdf_in_system_reader\": False,\n",
    "    \"profile.default_content_settings.popups\": 0,\n",
    "}\n",
    "\n",
    "options.add_experimental_option(\"prefs\", chrome_prefs)\n",
    "\n",
    "driver = Chrome(service=Service(ChromeDriverManager().install()), options=options)\n",
    "\n",
    "import pandas as pd\n",
    "import time"
   ]
  },
  {
   "cell_type": "code",
   "execution_count": 44,
   "id": "405cfa1e",
   "metadata": {},
   "outputs": [
    {
     "data": {
      "text/html": [
       "<div>\n",
       "<style scoped>\n",
       "    .dataframe tbody tr th:only-of-type {\n",
       "        vertical-align: middle;\n",
       "    }\n",
       "\n",
       "    .dataframe tbody tr th {\n",
       "        vertical-align: top;\n",
       "    }\n",
       "\n",
       "    .dataframe thead th {\n",
       "        text-align: right;\n",
       "    }\n",
       "</style>\n",
       "<table border=\"1\" class=\"dataframe\">\n",
       "  <thead>\n",
       "    <tr style=\"text-align: right;\">\n",
       "      <th></th>\n",
       "      <th>PLACAS</th>\n",
       "    </tr>\n",
       "  </thead>\n",
       "  <tbody>\n",
       "    <tr>\n",
       "      <th>0</th>\n",
       "      <td>GHL0A97</td>\n",
       "    </tr>\n",
       "    <tr>\n",
       "      <th>1</th>\n",
       "      <td>CUL2F37</td>\n",
       "    </tr>\n",
       "    <tr>\n",
       "      <th>2</th>\n",
       "      <td>MLU-6549</td>\n",
       "    </tr>\n",
       "    <tr>\n",
       "      <th>3</th>\n",
       "      <td>MLU5I99</td>\n",
       "    </tr>\n",
       "    <tr>\n",
       "      <th>4</th>\n",
       "      <td>MLU6G79</td>\n",
       "    </tr>\n",
       "    <tr>\n",
       "      <th>5</th>\n",
       "      <td>MLU6E99</td>\n",
       "    </tr>\n",
       "    <tr>\n",
       "      <th>6</th>\n",
       "      <td>MLU6A29</td>\n",
       "    </tr>\n",
       "    <tr>\n",
       "      <th>7</th>\n",
       "      <td>MLU6I49</td>\n",
       "    </tr>\n",
       "    <tr>\n",
       "      <th>8</th>\n",
       "      <td>MLU6D29</td>\n",
       "    </tr>\n",
       "    <tr>\n",
       "      <th>9</th>\n",
       "      <td>MLU7D89</td>\n",
       "    </tr>\n",
       "    <tr>\n",
       "      <th>10</th>\n",
       "      <td>MLU7D29</td>\n",
       "    </tr>\n",
       "    <tr>\n",
       "      <th>11</th>\n",
       "      <td>MLU6B39</td>\n",
       "    </tr>\n",
       "    <tr>\n",
       "      <th>12</th>\n",
       "      <td>MLU7B09</td>\n",
       "    </tr>\n",
       "    <tr>\n",
       "      <th>13</th>\n",
       "      <td>MLU7C39</td>\n",
       "    </tr>\n",
       "    <tr>\n",
       "      <th>14</th>\n",
       "      <td>MLU7E79</td>\n",
       "    </tr>\n",
       "    <tr>\n",
       "      <th>15</th>\n",
       "      <td>MLU7A79</td>\n",
       "    </tr>\n",
       "    <tr>\n",
       "      <th>16</th>\n",
       "      <td>RAG6H98</td>\n",
       "    </tr>\n",
       "    <tr>\n",
       "      <th>17</th>\n",
       "      <td>RAG6I88</td>\n",
       "    </tr>\n",
       "    <tr>\n",
       "      <th>18</th>\n",
       "      <td>RAG8I98</td>\n",
       "    </tr>\n",
       "    <tr>\n",
       "      <th>19</th>\n",
       "      <td>RAG8J48</td>\n",
       "    </tr>\n",
       "  </tbody>\n",
       "</table>\n",
       "</div>"
      ],
      "text/plain": [
       "      PLACAS\n",
       "0    GHL0A97\n",
       "1    CUL2F37\n",
       "2   MLU-6549\n",
       "3    MLU5I99\n",
       "4    MLU6G79\n",
       "5    MLU6E99\n",
       "6    MLU6A29\n",
       "7    MLU6I49\n",
       "8    MLU6D29\n",
       "9    MLU7D89\n",
       "10   MLU7D29\n",
       "11   MLU6B39\n",
       "12   MLU7B09\n",
       "13   MLU7C39\n",
       "14   MLU7E79\n",
       "15   MLU7A79\n",
       "16   RAG6H98\n",
       "17   RAG6I88\n",
       "18   RAG8I98\n",
       "19   RAG8J48"
      ]
     },
     "metadata": {},
     "output_type": "display_data"
    }
   ],
   "source": [
    "tabela = pd.read_excel('carretas.xlsx')\n",
    "display(tabela)"
   ]
  },
  {
   "cell_type": "code",
   "execution_count": null,
   "id": "1917674d",
   "metadata": {},
   "outputs": [],
   "source": []
  },
  {
   "cell_type": "code",
   "execution_count": 45,
   "id": "d345dbcc",
   "metadata": {},
   "outputs": [],
   "source": [
    "#entrar no site\n",
    "driver.get('https://malicencas.vegws.com.br/licenca')"
   ]
  },
  {
   "cell_type": "code",
   "execution_count": 46,
   "id": "9ef1d05f",
   "metadata": {},
   "outputs": [],
   "source": [
    "#login\n",
    "driver.find_element(By.ID,'identity').send_keys('LEO WK')\n",
    "driver.find_element(By.ID,'password').send_keys('166957')\n",
    "driver.find_element(By.NAME, 'submit').click()"
   ]
  },
  {
   "cell_type": "code",
   "execution_count": 47,
   "id": "08eb55eb",
   "metadata": {},
   "outputs": [],
   "source": [
    "#cadastro carretas\n",
    "driver.get('https://malicencas.vegws.com.br/carreta')"
   ]
  },
  {
   "cell_type": "code",
   "execution_count": 48,
   "id": "a3b00a9d",
   "metadata": {},
   "outputs": [
    {
     "name": "stdout",
     "output_type": "stream",
     "text": [
      "Prontinho, documentos baixados <3\n"
     ]
    }
   ],
   "source": [
    "for placa in tabela['PLACAS']:\n",
    "    driver.find_element(By.NAME, 'pesquisa').send_keys(placa)\n",
    "    driver.find_element(By.XPATH, '/html/body/div[2]/div/div/div/div/div[2]/div[1]/form/div/span[2]/button').click()\n",
    "    link = driver.find_element(By.XPATH, '/html/body/div[2]/div/div/div/div/div[2]/div[2]/table/tbody/tr[2]/td[6]/a[1]').get_attribute('href')\n",
    "    response = requests.get(link)\n",
    "    open('{}.pdf'.format(placa), 'wb').write(response.content)\n",
    "    driver.get('https://malicencas.vegws.com.br/carreta')\n",
    "print('Prontinho, documentos baixados <3')\n",
    "    \n",
    "    "
   ]
  },
  {
   "cell_type": "code",
   "execution_count": null,
   "id": "48d50582",
   "metadata": {},
   "outputs": [],
   "source": []
  }
 ],
 "metadata": {
  "kernelspec": {
   "display_name": "Python 3 (ipykernel)",
   "language": "python",
   "name": "python3"
  },
  "language_info": {
   "codemirror_mode": {
    "name": "ipython",
    "version": 3
   },
   "file_extension": ".py",
   "mimetype": "text/x-python",
   "name": "python",
   "nbconvert_exporter": "python",
   "pygments_lexer": "ipython3",
   "version": "3.9.13"
  }
 },
 "nbformat": 4,
 "nbformat_minor": 5
}
